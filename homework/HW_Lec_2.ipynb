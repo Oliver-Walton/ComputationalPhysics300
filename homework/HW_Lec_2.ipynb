{
 "cells": [
  {
   "cell_type": "markdown",
   "metadata": {},
   "source": [
    "## 2.5 Homework\n",
    "### The Einstein Model of a Solid\n",
    "\n",
    "A solid crystal is composed of atoms. Einstein proposed that a model that each atom is pretty much a harmonic oscillator \n",
    "because it is attached by some springs to the adjacent atoms in the crystal lattice.\n",
    "![Image of Einstein solid](https://github.com/qzhu2017/2017-cmp/blob/master/img/einsteins-solid.jpg?raw=true)\n",
    "\n",
    "In each oscillator, the energy has quantized separation (0,1,2,.....)\n",
    "Suppose there are only 3 oscillators, the energy could be\n",
    "\n",
    "|Oscillator | 1| 2|\n",
    "|:-----:|:-----:|:-----:|\n",
    "|Energy|0|0|\n",
    "| |1|0|\n",
    "| |0|1|\n",
    "| |1|1|\n",
    "| |2|0|\n",
    "| |0|2|\n",
    "Namely,\n",
    "\n",
    "   When the total energy ($q$) is 0, $\\Omega$=1 \n",
    "\n",
    "   When the total energy ($q$) is 1, $\\Omega$=2 \n",
    "\n",
    "   When the total energy ($q$) is 2, $\\Omega$=3\n",
    "\n",
    "The generalized form is\n",
    " $$\\Omega(N, q) = \\binom{q+N-1}{q} = \\frac{(q+N-1)!}{q!(N-1)!}$$\n",
    " \n",
    " \n",
    "Try to prove this formula and write a code to compute $\\Omega$ for any ($N$, $q$)"
   ]
  },
  {
   "cell_type": "code",
   "execution_count": 58,
   "metadata": {},
   "outputs": [
    {
     "name": "stdout",
     "output_type": "stream",
     "text": [
      "q =  0 , omega =  1.0\n",
      "q =  1 , omega =  3.0\n",
      "q =  2 , omega =  6.0\n",
      "q =  3 , omega =  10.0\n",
      "q =  4 , omega =  15.0\n",
      "q =  5 , omega =  21.0\n",
      "q =  6 , omega =  28.0\n",
      "q =  7 , omega =  36.0\n",
      "q =  8 , omega =  45.0\n",
      "q =  9 , omega =  55.0\n"
     ]
    }
   ],
   "source": [
    "import numpy as np\n",
    "\n",
    "#defines the factorial of an integer   ###wasn't sure if i could just use np.math.factorial\n",
    "def fact(x):\n",
    "    \n",
    "    i = 1\n",
    "    y = x\n",
    "    total = 1\n",
    "    \n",
    "    if (x == 0):\n",
    "        return (int(1))\n",
    "    \n",
    "    else:\n",
    "        while(i < x):\n",
    "            total = total * y\n",
    "            y = y - 1\n",
    "            i = i + 1\n",
    "            \n",
    "        return (total)\n",
    "        \n",
    "\n",
    "#defines multiplicity equation given above\n",
    "def multiplicity(q, N=3): \n",
    "    return ((fact(q + N - 1))/(fact(q)*(fact(N-1))))\n",
    "#     return ((np.math.factorial(q + N - 1))/(np.math.factorial(q)*(np.math.factorial(N-1))))\n",
    "\n",
    "# prints i number of multiplicity values\n",
    "for i in range(10):\n",
    "    print(\"q = \", i, \", omega = \", multiplicity(i))"
   ]
  },
  {
   "cell_type": "code",
   "execution_count": 59,
   "metadata": {},
   "outputs": [
    {
     "name": "stdout",
     "output_type": "stream",
     "text": [
      "q =  0 , omega =  1.0\n",
      "q =  1 , omega =  4.0\n",
      "q =  2 , omega =  10.0\n",
      "q =  3 , omega =  20.0\n",
      "q =  4 , omega =  35.0\n",
      "q =  5 , omega =  56.0\n",
      "q =  6 , omega =  84.0\n",
      "q =  7 , omega =  120.0\n",
      "q =  8 , omega =  165.0\n",
      "q =  9 , omega =  220.0\n"
     ]
    }
   ],
   "source": [
    "#prints i number of multiplicity values\n",
    "for i in range(10):\n",
    "    print(\"q = \", i, \", omega = \", multiplicity(i,4))"
   ]
  },
  {
   "cell_type": "code",
   "execution_count": 60,
   "metadata": {},
   "outputs": [
    {
     "name": "stdout",
     "output_type": "stream",
     "text": [
      "q =  0 , omega =  1.0\n",
      "q =  100 , omega =  5151.0\n",
      "q =  200 , omega =  20301.0\n",
      "q =  300 , omega =  45451.0\n",
      "q =  400 , omega =  80601.0\n",
      "q =  500 , omega =  125751.0\n",
      "q =  600 , omega =  180901.0\n",
      "q =  700 , omega =  246051.0\n",
      "q =  800 , omega =  321201.0\n",
      "q =  900 , omega =  406351.0\n",
      "q =  1000 , omega =  501501.0\n"
     ]
    }
   ],
   "source": [
    "#only prints one out of every 50 loops\n",
    "for i in range(1001):\n",
    "    \n",
    "    if (i%100) == 0:\n",
    "        print(\"q = \", i, \", omega = \", multiplicity(i))"
   ]
  },
  {
   "cell_type": "code",
   "execution_count": 61,
   "metadata": {},
   "outputs": [
    {
     "name": "stdout",
     "output_type": "stream",
     "text": [
      "q =  0 , omega =  1.0\n",
      "q =  100 , omega =  176851.0\n",
      "q =  200 , omega =  1373701.0\n",
      "q =  300 , omega =  4590551.0\n",
      "q =  400 , omega =  10827401.0\n",
      "q =  500 , omega =  21084251.0\n",
      "q =  600 , omega =  36361101.0\n",
      "q =  700 , omega =  57657951.0\n",
      "q =  800 , omega =  85974801.0\n",
      "q =  900 , omega =  122311651.0\n",
      "q =  1000 , omega =  167668501.0\n"
     ]
    }
   ],
   "source": [
    "#only prints one out of every 50 loops\n",
    "for i in range(1001):\n",
    "    \n",
    "    if (i%100) == 0:\n",
    "        print(\"q = \", i, \", omega = \", multiplicity(i,4))"
   ]
  }
 ],
 "metadata": {
  "kernelspec": {
   "display_name": "Python 3",
   "language": "python",
   "name": "python3"
  },
  "language_info": {
   "codemirror_mode": {
    "name": "ipython",
    "version": 3
   },
   "file_extension": ".py",
   "mimetype": "text/x-python",
   "name": "python",
   "nbconvert_exporter": "python",
   "pygments_lexer": "ipython3",
   "version": "3.8.3"
  }
 },
 "nbformat": 4,
 "nbformat_minor": 4
}
