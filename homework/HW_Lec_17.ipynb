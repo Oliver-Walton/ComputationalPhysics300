{
 "cells": [
  {
   "cell_type": "markdown",
   "metadata": {},
   "source": [
    "## 17.5 Homework\n",
    "\n",
    "Write a program to find the ground state of LJ potential for N=3 (assuming $\\epsilon$ = $\\sigma$ = 1)\n",
    "\n",
    "[Refenece](http://doye.chem.ox.ac.uk/jon/structures/LJ/tables.150.html)\n"
   ]
  },
  {
   "cell_type": "code",
   "execution_count": 11,
   "metadata": {},
   "outputs": [],
   "source": [
    "import numpy as np\n",
    "\n",
    "# standard LJ potential from lec 17\n",
    "#where r= distance between 2 atoms\n",
    "def LJ(r):\n",
    "    r6 = r**6\n",
    "    r12 = r6*r6\n",
    "    return 4*(1/r12 - 1/r6)"
   ]
  },
  {
   "cell_type": "code",
   "execution_count": 101,
   "metadata": {},
   "outputs": [],
   "source": [
    "#because there are 3 ways to make pairs out of 3 atoms, \n",
    "#there are 3 distances that we need to keep in mind.\n",
    "\n",
    "#positions has to be a 3*N array where the position of each atom is listed in order\n",
    "#exp: [x0,y0,z0,x1,y1,z1,...,xn,yn,zn]\n",
    "def total_LJ(pos):\n",
    "    \n",
    "    E = 0\n",
    "    N = int(len(pos)/3) #infer the number of atoms from the length of given array\n",
    "    pos1 = np.zeros(3)\n",
    "    pos2 = np.zeros(3)\n",
    "    \n",
    "    for i in range(N-1):\n",
    "        for j in range (i+1, N):\n",
    "            pos1 = [pos[i*3], pos[i*3 + 1] , pos[i*3 + 2]]\n",
    "            pos2 = [pos[j*3], pos[j*3 + 1] , pos[j*3 + 2]]\n",
    "            dist = np.sqrt((pos1[0]-pos2[0])**2 + (pos1[1]-pos2[1])**2 + (pos1[2]-pos2[2])**2)\n",
    "            E += LJ(dist)\n",
    "#             print(pos1, pos2, E)\n",
    "\n",
    "            \n",
    "    return E"
   ]
  },
  {
   "cell_type": "code",
   "execution_count": 106,
   "metadata": {},
   "outputs": [
    {
     "name": "stdout",
     "output_type": "stream",
     "text": [
      "[0.06840745 0.8572212  0.78107196 0.51840483 0.43111737 0.1805687\n",
      " 0.73089534 0.24478748 0.10001788]\n"
     ]
    }
   ],
   "source": [
    "starting_pos = np.random.random_sample(3*3)\n",
    "print (starting_pos)"
   ]
  },
  {
   "cell_type": "code",
   "execution_count": 111,
   "metadata": {},
   "outputs": [
    {
     "name": "stdout",
     "output_type": "stream",
     "text": [
      "Min found at:  -2.9999999998621685\n"
     ]
    }
   ],
   "source": [
    "from scipy.optimize import minimize\n",
    "\n",
    "# print(starting_pos)\n",
    "\n",
    "minimum = minimize(total_LJ, starting_pos, method='CG', tol=1e-4)\n",
    "print(\"Min found at: \", minimum.fun)"
   ]
  },
  {
   "cell_type": "markdown",
   "metadata": {},
   "source": [
    "http://doye.chem.ox.ac.uk/jon/structures/LJ/tables.150.html\n",
    "\n",
    "Says that it should be -3 so this is resonably close"
   ]
  },
  {
   "cell_type": "markdown",
   "metadata": {},
   "source": [
    "## 18.3 Homework\n",
    "\n",
    "Try different minimization methods in scipy on larger systems ($N$ up to 20), and show \n",
    "- 1 the average number of attempts to find the ground state\n",
    "- 2 the time costs\n",
    "\n",
    "\n",
    "### Optional\n",
    "try to improve the code to make it run faster, analyze the most time consuming part and give your solution\n"
   ]
  },
  {
   "cell_type": "code",
   "execution_count": 116,
   "metadata": {},
   "outputs": [],
   "source": [
    "#I can just use my function from before with a new starting position\n",
    "starting_pos = np.random.random_sample(12*3)\n",
    "# print(starting_pos)"
   ]
  },
  {
   "cell_type": "code",
   "execution_count": 117,
   "metadata": {},
   "outputs": [
    {
     "name": "stdout",
     "output_type": "stream",
     "text": [
      "Min found at:  -35.465899410967424\n"
     ]
    }
   ],
   "source": [
    "#first try\n",
    "minimum = minimize(total_LJ, starting_pos, method='CG', tol=1e-4)\n",
    "print(\"Min found at: \", minimum.fun)"
   ]
  },
  {
   "cell_type": "markdown",
   "metadata": {},
   "source": [
    "http://doye.chem.ox.ac.uk/jon/structures/LJ/tables.150.html\n",
    "\n",
    "says it should be -37.967600 which means we are a little off the mark\n",
    "\n",
    "(I have later realized that getting -35 was a very good guess in comparison to more common local min)\n",
    "\n",
    "Because this could be due to falling into a local min, lets try it many times to try and find the global min"
   ]
  },
  {
   "cell_type": "code",
   "execution_count": 121,
   "metadata": {},
   "outputs": [
    {
     "name": "stdout",
     "output_type": "stream",
     "text": [
      "Min found at:  -15.533060324474453 in:  6.346255000000383 seconds\n"
     ]
    }
   ],
   "source": [
    "#time it takes to do it once\n",
    "import time\n",
    "\n",
    "timer_start = time.perf_counter()\n",
    "minimum = minimize(total_LJ, np.random.random_sample(12*3), method='CG', tol=1e-4)\n",
    "timer_end = time.perf_counter()\n",
    "\n",
    "time = timer_end - timer_start\n",
    "print(\"Min found at: \", minimum.fun, \"in: \", time, \"seconds\")"
   ]
  },
  {
   "cell_type": "code",
   "execution_count": 159,
   "metadata": {},
   "outputs": [
    {
     "name": "stdout",
     "output_type": "stream",
     "text": [
      "Min found at:  -9.103942026089081 in:  464.8630788999981 seconds\n"
     ]
    }
   ],
   "source": [
    "#trying to do it many times\n",
    "import time\n",
    "\n",
    "N = 100\n",
    "timer_start = time.perf_counter()\n",
    "hist = []\n",
    "# global_min = 0\n",
    "\n",
    "for i in range(N):\n",
    "    minimum = minimize(total_LJ, np.random.random_sample(12*3), method='CG', tol=1e-4)\n",
    "    hist.append(minimum.fun)\n",
    "    if (global_min > minimum.fun):\n",
    "        global_min=minimum.fun\n",
    "#     hist.append(np.random.random_sample(1))\n",
    "timer_end = time.perf_counter()\n",
    "\n",
    "time = timer_end - timer_start\n",
    "print(\"Min found at: \", minimum.fun, \"in: \", time, \"seconds\")\n",
    "# print(hist)"
   ]
  },
  {
   "cell_type": "code",
   "execution_count": 163,
   "metadata": {},
   "outputs": [
    {
     "name": "stdout",
     "output_type": "stream",
     "text": [
      "the real lowest found -37.967599562309076\n"
     ]
    }
   ],
   "source": [
    "#the min found was wrong for some reason\n",
    "\n",
    "lowest = hist[0]\n",
    "for i in range(len(hist)):\n",
    "    if hist[i] < lowest:\n",
    "        lowest = hist[i]\n",
    "        \n",
    "print (\"the real lowest found\", lowest)"
   ]
  },
  {
   "cell_type": "code",
   "execution_count": 160,
   "metadata": {},
   "outputs": [
    {
     "data": {
      "image/png": "[encoded data removed]",
      "text/plain": [
       "<Figure size 432x288 with 1 Axes>"
      ]
     },
     "metadata": {
      "needs_background": "light"
     },
     "output_type": "display_data"
    }
   ],
   "source": [
    "import matplotlib.pyplot as plt\n",
    "\n",
    "# binsize = [-40, -35, -30, -25, -20, -15, -10, -5, 0]\n",
    "binsize = []\n",
    "for i in range(41):\n",
    "    binsize.append(-40+i)\n",
    "# print(hist)\n",
    "plt.hist(hist, bins=binsize)\n",
    "plt.show()"
   ]
  },
  {
   "cell_type": "code",
   "execution_count": null,
   "metadata": {},
   "outputs": [],
   "source": []
  }
 ],
 "metadata": {
  "kernelspec": {
   "display_name": "Python 3",
   "language": "python",
   "name": "python3"
  },
  "language_info": {
   "codemirror_mode": {
    "name": "ipython",
    "version": 3
   },
   "file_extension": ".py",
   "mimetype": "text/x-python",
   "name": "python",
   "nbconvert_exporter": "python",
   "pygments_lexer": "ipython3",
   "version": "3.8.3"
  }
 },
 "nbformat": 4,
 "nbformat_minor": 4
}
