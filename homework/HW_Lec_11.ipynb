{
 "cells": [
  {
   "cell_type": "markdown",
   "metadata": {},
   "source": [
    "## 11.5 Homework\n",
    "\n",
    "#### 1, Monte Carlo Integral\n",
    "\n",
    "Calculate the area shaded in green\n",
    "![Homework](https://raw.githubusercontent.com/qzhu2017/2017-cmp/master/img/MC1.png)\n",
    "\n",
    "#### 2, Error Analysis\n",
    "Try to do the intergral many times (100) for different $N$ values (100, 1000, 10000, 100000), collect the data and calculate its standard varaince.\n"
   ]
  },
  {
   "cell_type": "code",
   "execution_count": 45,
   "metadata": {},
   "outputs": [
    {
     "data": {
      "image/png": "[encoded data removed]",
      "text/plain": [
       "<Figure size 432x288 with 1 Axes>"
      ]
     },
     "metadata": {
      "needs_background": "light"
     },
     "output_type": "display_data"
    }
   ],
   "source": [
    "#appendex to give graph\n",
    "import matplotlib.pyplot as plt\n",
    "import numpy as np\n",
    "\n",
    "fig1 = plt.figure()\n",
    "ax1 = fig1.add_subplot(111, aspect='equal')\n",
    "\n",
    "x1 = np.linspace(0,2,100)\n",
    "y1 = np.sqrt(1-(x1-1)**2)\n",
    "ax1.plot(x1,y1,'k')\n",
    "\n",
    "y2 = 2-np.sqrt(4-x1**2)\n",
    "ax1.plot(x1,y2,'k')\n",
    "\n",
    "ax1.set_xlim(0,2)\n",
    "ax1.set_ylim(0,2)\n",
    "ax1.fill_between(x1, y1, y2, where=y1>y2, facecolor='green')\n",
    "\n",
    "plt.show()\n",
    "#plt.savefig('MC1.png')"
   ]
  },
  {
   "cell_type": "code",
   "execution_count": 37,
   "metadata": {},
   "outputs": [],
   "source": [
    "import numpy as np\n",
    "import matplotlib.pyplot as plt\n",
    "from random import random\n",
    "\n",
    "#problem functions\n",
    "def f1(x): #top\n",
    "    return np.sqrt(1-(x-1)**2)\n",
    "def f2(x): #bottom\n",
    "    return 2-np.sqrt(4-x**2)\n",
    "\n",
    "#mc integral for this problem\n",
    "def MC(N):\n",
    "    count = 0\n",
    "    for i in range(N):\n",
    "        x = 2*random()\n",
    "        y = random()\n",
    "        if y<f1(x) and y>f2(x):\n",
    "            count += 1\n",
    "    I = 2*count/N\n",
    "    return I"
   ]
  },
  {
   "cell_type": "code",
   "execution_count": 48,
   "metadata": {},
   "outputs": [
    {
     "name": "stdout",
     "output_type": "stream",
     "text": [
      "Doing 1 run of everything\n",
      "N = 100:      0.96\n",
      "N = 1000:     0.946\n",
      "N = 10,000:   0.9618\n",
      "N = 100,000:  0.96096\n"
     ]
    }
   ],
   "source": [
    "#first time for each\n",
    "print(\"Doing 1 run of everything\")\n",
    "print(\"N = 100:     \", MC(100))\n",
    "print(\"N = 1000:    \", MC(1000))\n",
    "print(\"N = 10,000:  \", MC(10000))\n",
    "print(\"N = 100,000: \", MC(100000))"
   ]
  },
  {
   "cell_type": "code",
   "execution_count": 53,
   "metadata": {},
   "outputs": [
    {
     "name": "stdout",
     "output_type": "stream",
     "text": [
      "Doing 100 runs of everything\n",
      "N = 100:      0.9632000000000002\n",
      "N = 1000:     0.9606999999999999\n",
      "N = 10,000:   0.9615019999999994\n",
      "N = 100,000:  0.9622140000000001\n"
     ]
    }
   ],
   "source": [
    "n1 = 0.0\n",
    "n2 = 0.0\n",
    "n3 = 0.0\n",
    "n4 = 0.0\n",
    "\n",
    "i=0\n",
    "for i in range(100):\n",
    "    n1 += MC(100)\n",
    "    n2 += MC(1000)\n",
    "    n3 += MC(10000)\n",
    "    n4 += MC(100000)\n",
    "\n",
    "print(\"Doing 100 runs of everything\")\n",
    "print(\"N = 100:     \", n1/100)\n",
    "print(\"N = 1000:    \", n2/100)\n",
    "print(\"N = 10,000:  \", n3/100)\n",
    "print(\"N = 100,000: \", n4/100)"
   ]
  },
  {
   "cell_type": "markdown",
   "metadata": {},
   "source": [
    "So the area of the shaded region is \n",
    "\n",
    "Area = 0.962"
   ]
  },
  {
   "cell_type": "markdown",
   "metadata": {},
   "source": [
    "#### Error Analysis"
   ]
  },
  {
   "cell_type": "code",
   "execution_count": 54,
   "metadata": {},
   "outputs": [
    {
     "name": "stdout",
     "output_type": "stream",
     "text": [
      "standard Deviation\n",
      "N = 100:      0.01882704437770301\n",
      "N = 1000:     0.006144551244802187\n",
      "N = 10,000:   0.0019239517664432376\n",
      "N = 100,000:  0.0006029777624755318\n"
     ]
    }
   ],
   "source": [
    "#standard deviation\n",
    "\n",
    "delta1 = np.sqrt(((n1/100)*(1 - (n1/100)))/100)\n",
    "delta2 = np.sqrt(((n2/100)*(1 - (n2/100)))/1000)\n",
    "delta3 = np.sqrt(((n3/100)*(1 - (n3/100)))/10000)\n",
    "delta4 = np.sqrt(((n4/100)*(1 - (n4/100)))/100000)\n",
    "\n",
    "print(\"standard Deviation\")\n",
    "print(\"N = 100:     \", delta1)\n",
    "print(\"N = 1000:    \", delta2)\n",
    "print(\"N = 10,000:  \", delta3)\n",
    "print(\"N = 100,000: \", delta4)"
   ]
  },
  {
   "cell_type": "markdown",
   "metadata": {},
   "source": [
    "So as expected, as N increases, our accuracy increases."
   ]
  }
 ],
 "metadata": {
  "kernelspec": {
   "display_name": "Python 3",
   "language": "python",
   "name": "python3"
  },
  "language_info": {
   "codemirror_mode": {
    "name": "ipython",
    "version": 3
   },
   "file_extension": ".py",
   "mimetype": "text/x-python",
   "name": "python",
   "nbconvert_exporter": "python",
   "pygments_lexer": "ipython3",
   "version": "3.8.3"
  }
 },
 "nbformat": 4,
 "nbformat_minor": 4
}
