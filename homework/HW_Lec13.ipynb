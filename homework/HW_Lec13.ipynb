{
 "cells": [
  {
   "cell_type": "markdown",
   "metadata": {},
   "source": [
    "## 15.5 Homework (by 10 am Oct 19, 2017)\n",
    "\n",
    "- a) Write a program that generates and prints out two random numbers between 1 and 6, to simulate the rolling of two dice.\n",
    "- b) Modify your program to simulate the rolling of two dice a million times (N0) and count the number of times you get double six (N1). Calculate the probability of finding double six in your simulations (N1/N0) \n",
    "- c) Write a code to generate random integers within [-5, 5], find the magic series of {a, c, m} [Don't use the built-in function in numpy] "
   ]
  },
  {
   "cell_type": "code",
   "execution_count": 4,
   "metadata": {},
   "outputs": [],
   "source": [
    "# iy = year\n",
    "# im = month\n",
    "# i_d = day\n",
    "\n",
    "# I_seed = iy + 70(im + 12(i_d + 31[ih + 23(i_n + 59*i_s)]))"
   ]
  },
  {
   "cell_type": "code",
   "execution_count": 31,
   "metadata": {},
   "outputs": [
    {
     "name": "stdout",
     "output_type": "stream",
     "text": [
      "[38 39  8 13  7] [80 22 79 89  8]\n"
     ]
    },
    {
     "data": {
      "text/plain": [
       "array([0.58044714, 0.78754216, 0.60647546, 0.21840285, 0.45516882,\n",
       "       0.87886974, 0.49226824, 0.71556116, 0.48615956, 0.70854815])"
      ]
     },
     "execution_count": 31,
     "metadata": {},
     "output_type": "execute_result"
    }
   ],
   "source": [
    "import numpy as np\n",
    "\n",
    "# np.random.seed(0)\n",
    "a=np.random.randint(0,100,5)\n",
    "b=np.random.randint(0,100,5)\n",
    "print(a,b)\n",
    "np.random.random_sample(10)"
   ]
  },
  {
   "cell_type": "markdown",
   "metadata": {},
   "source": [
    "## Dice Rolling"
   ]
  },
  {
   "cell_type": "code",
   "execution_count": 179,
   "metadata": {},
   "outputs": [
    {
     "name": "stdout",
     "output_type": "stream",
     "text": [
      "Dice1:  5\n",
      "Dice2:  2\n"
     ]
    }
   ],
   "source": [
    "#Rolling of 2 dice once\n",
    "\n",
    "import numpy as np\n",
    "\n",
    "# np.random.seed(0)\n",
    "dice1 = np.random.randint(1,7)\n",
    "dice2 = np.random.randint(1,7)\n",
    "\n",
    "print(\"Dice1: \", dice1)\n",
    "print(\"Dice2: \", dice2)"
   ]
  },
  {
   "cell_type": "code",
   "execution_count": 253,
   "metadata": {},
   "outputs": [
    {
     "name": "stdout",
     "output_type": "stream",
     "text": [
      "Total number of double sixes is:  27366\n",
      "2.7366 % chance to get a random double 6\n",
      "2.7777777777777777 % Theoretical chance to get double 6\n"
     ]
    }
   ],
   "source": [
    "#Rolling of 2 dice 1 million times\n",
    "\n",
    "n = 1*(10**6)   #1million\n",
    "count = 0\n",
    "\n",
    "for i in range(n):\n",
    "    dice1 = np.random.randint(1,7)\n",
    "    dice2 = np.random.randint(1,7)\n",
    "    \n",
    "    if (dice1 == 6 and dice2 == 6):\n",
    "        count += 1\n",
    "#         print(count)\n",
    "\n",
    "\n",
    "print(\"Total number of double sixes is: \", count)\n",
    "print(count/n*100,\"% chance to get a random double 6\")\n",
    "print((1/6)*(1/6)*100, \"% Theoretical chance to get double 6\")"
   ]
  },
  {
   "cell_type": "markdown",
   "metadata": {},
   "source": [
    "## Using a self made random number generator"
   ]
  },
  {
   "cell_type": "code",
   "execution_count": 268,
   "metadata": {},
   "outputs": [
    {
     "data": {
      "image/png": "[encoded data removed]",
      "text/plain": [
       "<Figure size 432x288 with 1 Axes>"
      ]
     },
     "metadata": {
      "needs_background": "light"
     },
     "output_type": "display_data"
    }
   ],
   "source": [
    "\n",
    "a = 1\n",
    "c = 1\n",
    "m = (2**31)-1\n",
    "x = 1\n",
    "\n",
    "allnum = []\n",
    "\n",
    "i = 0\n",
    "n = 1000\n",
    "for i in range(n):\n",
    "    x = (a*x+c)%m\n",
    "    allnum.append((x - 5)%11)  #there are 11 digits between -5 and 5\n",
    "\n",
    "# print(allnum)\n",
    "plt.hist(allnum)\n",
    "plt.show()\n",
    "    \n"
   ]
  },
  {
   "cell_type": "markdown",
   "metadata": {},
   "source": [
    "##### now we have a way to generate a random number, we sould check values of a, c, and m to find the most random number\n",
    "\n",
    "where the answer will be \\\n",
    "a = $7^7$ = 16807, c=0, m=$2^{31}$-1 = 2,147,483,647 \n",
    "\n",
    "m is going to be better the larger it is and the max number an int can hold is $2^{31}-1$ and that is the same as the answer \n",
    "\n",
    "everything else can be found by looking for the highest varience"
   ]
  },
  {
   "cell_type": "code",
   "execution_count": 332,
   "metadata": {},
   "outputs": [
    {
     "name": "stdout",
     "output_type": "stream",
     "text": [
      "testing Power:  1\n",
      "35.057432\n",
      "testing Power:  2\n",
      "testing Power:  3\n",
      "testing Power:  4\n",
      "testing Power:  5\n",
      "testing Power:  6\n",
      "testing Power:  7\n",
      "testing Power:  8\n",
      "testing Power:  9\n",
      "testing Power:  10\n",
      "\n",
      "\n",
      "The best power of 7 is 7^ 1\n",
      "With a varience of  35.057432\n"
     ]
    }
   ],
   "source": [
    "#check for a\n",
    "\n",
    "varience = 0\n",
    "power = 0\n",
    "\n",
    "m = (2**31)-1\n",
    "c = 0\n",
    "a = 7    #we cheat a little by only looking for the best power of 7\n",
    "maybe = 0\n",
    "p = 11\n",
    "n = 1000000\n",
    "\n",
    "i = 1\n",
    "for i in range (1,p):\n",
    "    a = 7**i\n",
    "    print(\"testing Power: \",i)\n",
    "    allnum = [] #empty the array to start over\n",
    "    for j in range(n):\n",
    "        x = (a*x+c)%m\n",
    "        allnum.append(((x - 5)%11)**2) #append squared value\n",
    "        \n",
    "    maybe = sum(allnum)/n\n",
    "    if (varience < maybe):\n",
    "        varience = maybe\n",
    "        print(varience)\n",
    "        power = i\n",
    "print(\"\\n\")\n",
    "print(\"The best power of 7 is 7^\",power)\n",
    "print(\"With a varience of \",varience)\n",
    "        \n",
    "        "
   ]
  },
  {
   "cell_type": "code",
   "execution_count": 267,
   "metadata": {},
   "outputs": [
    {
     "name": "stdout",
     "output_type": "stream",
     "text": [
      "823543\n",
      "2147483648\n"
     ]
    }
   ],
   "source": [
    "print(7**7)\n",
    "print(2**31)"
   ]
  },
  {
   "cell_type": "code",
   "execution_count": null,
   "metadata": {},
   "outputs": [],
   "source": []
  },
  {
   "cell_type": "code",
   "execution_count": null,
   "metadata": {},
   "outputs": [],
   "source": []
  },
  {
   "cell_type": "code",
   "execution_count": null,
   "metadata": {},
   "outputs": [],
   "source": []
  }
 ],
 "metadata": {
  "kernelspec": {
   "display_name": "Python 3",
   "language": "python",
   "name": "python3"
  },
  "language_info": {
   "codemirror_mode": {
    "name": "ipython",
    "version": 3
   },
   "file_extension": ".py",
   "mimetype": "text/x-python",
   "name": "python",
   "nbconvert_exporter": "python",
   "pygments_lexer": "ipython3",
   "version": "3.8.3"
  }
 },
 "nbformat": 4,
 "nbformat_minor": 4
}
