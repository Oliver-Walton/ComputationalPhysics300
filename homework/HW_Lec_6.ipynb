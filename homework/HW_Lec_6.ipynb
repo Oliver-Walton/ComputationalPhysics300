{
 "cells": [
  {
   "cell_type": "markdown",
   "metadata": {},
   "source": [
    "## 6.4 Homework\n",
    "\n",
    "### 6.4.1 Try to find a way to deal with the noisy data and give your reasoning.\n",
    "\n",
    "### 6.4.2 Heat capacity of a solid\n",
    "Debye's thory of solids gives the heat capacity of a solid at temperature $T$ to be\n",
    "\n",
    "$$C_V = 9V\\rho k_B (\\frac{T}{\\theta_D})^3 \\int_0^{\\theta_D/T} \\frac{x^4e^x}{(e^x-1)^2}dx$$\n",
    "\n",
    "where $V$ is the volume of the solid, $\\rho$ is the density of atoms, $k_B$ is Boltzmann constant, and $\\theta$ is the Debye temperature.\n",
    "\n",
    "- Write a program to calculate $C_V$ for a given value of $T$ for a sample of 1000 $cm^3$ of aluminum, in which the density $\\rho$ is 6.022 $\\times 10^{28} m^3$ and $\\theta_D$ = 428 K. \n",
    "\n",
    "- Choose at least one wa to do the integral from the followings\n",
    "     - Simpson or trapezoid rule by yourself\n",
    "     - one built-function from scipy\n",
    "\n",
    "- Plot $C_V$ as a function of temperature from $T$ = 5 K to $T$ = 500 K."
   ]
  },
  {
   "cell_type": "code",
   "execution_count": 1,
   "metadata": {},
   "outputs": [],
   "source": [
    "import numpy as np\n",
    "import matplotlib.pyplot as plt\n",
    "from scipy import integrate"
   ]
  },
  {
   "cell_type": "code",
   "execution_count": 87,
   "metadata": {},
   "outputs": [],
   "source": [
    "def Cv (T):\n",
    "    V = 0.001 #cubic meters\n",
    "    rho = 6.022*(10**28) \n",
    "    theta = 428\n",
    "    Kb = 1.38064852*(10**(-23))  #boltzmann constant\n",
    "    \n",
    "    integrand = lambda x: (((x**4)*(np.exp(x)))/((np.exp(x)-1)**2))\n",
    "    \n",
    "    #I just used scipy to integrate in the hopes that it would be faster\n",
    "    return (9*V*rho*Kb*(T/theta)**3*(integrate.quad(integrand, 0, (theta/T))[0]))"
   ]
  },
  {
   "cell_type": "code",
   "execution_count": 88,
   "metadata": {},
   "outputs": [
    {
     "data": {
      "image/png": "[encoded data removed]",
      "text/plain": [
       "<Figure size 432x288 with 1 Axes>"
      ]
     },
     "metadata": {
      "needs_background": "light"
     },
     "output_type": "display_data"
    }
   ],
   "source": [
    "temp = np.linspace(5, 500, 100)\n",
    "Cv_arr = np.empty([temps.size])\n",
    "\n",
    "i=0\n",
    "for t in temp:\n",
    "    Cv_arr[i] = Cv(t)\n",
    "    i+=1\n",
    "\n",
    "plt.plot(temp, Cv_arr)\n",
    "plt.show()"
   ]
  }
 ],
 "metadata": {
  "kernelspec": {
   "display_name": "Python 3",
   "language": "python",
   "name": "python3"
  },
  "language_info": {
   "codemirror_mode": {
    "name": "ipython",
    "version": 3
   },
   "file_extension": ".py",
   "mimetype": "text/x-python",
   "name": "python",
   "nbconvert_exporter": "python",
   "pygments_lexer": "ipython3",
   "version": "3.8.3"
  }
 },
 "nbformat": 4,
 "nbformat_minor": 4
}
