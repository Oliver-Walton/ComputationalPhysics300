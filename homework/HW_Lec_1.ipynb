{
 "cells": [
  {
   "cell_type": "markdown",
   "metadata": {},
   "source": [
    "In 1888 Johannes Rydberg published his famous formula for the wavelengths $\\lambda$ of the emissioon lines of the hydrogen atom\n",
    "\n",
    "$$\\frac{1}{\\lambda} = R (\\frac{1}{m^2} - \\frac{1}{n^2})$$\n",
    "Where $R$ is the Rydberg constant = 1.097 $\\times$ $10^{-2} \\text{nm}^{-1}$, $m$ and $n$ are positive integers. For a given value of $m$, $\\lambda$ is given for this formula for all $n>m$ series, the first three series are known as the Lyman, Belmer and Paschen series, named after their discoverers. Can you write a code to compute the first three series for the first five lines?\n",
    "\n"
   ]
  },
  {
   "cell_type": "code",
   "execution_count": 13,
   "metadata": {},
   "outputs": [
    {
     "name": "stdout",
     "output_type": "stream",
     "text": [
      "Series for m =  1\n",
      "1 2 1.0 0.25\n",
      "1 3 1.0 0.1111111111111111\n",
      "1 4 1.0 0.0625\n",
      "1 5 1.0 0.04\n",
      "1 6 1.0 0.027777777777777776\n",
      "Series for m =  2\n",
      "2 3 0.25 0.1111111111111111\n",
      "2 4 0.25 0.0625\n",
      "2 5 0.25 0.04\n",
      "2 6 0.25 0.027777777777777776\n",
      "2 7 0.25 0.02040816326530612\n",
      "Series for m =  3\n",
      "3 4 0.1111111111111111 0.0625\n",
      "3 5 0.1111111111111111 0.04\n",
      "3 6 0.1111111111111111 0.027777777777777776\n",
      "3 7 0.1111111111111111 0.02040816326530612\n",
      "3 8 0.1111111111111111 0.015625\n"
     ]
    }
   ],
   "source": [
    "R = 1.097e-2 #Rydberg constant\n",
    "\n",
    "for m in [1,2,3]:\n",
    "    print(\"Series for m = \", m)\n",
    "    for k in [1,2,3,4,5]:\n",
    "        n = m + k\n",
    "\n",
    "        invlambda = R*(1.0/m**2 - 1/n**2)\n",
    "#         print(\"n=\",n, \"  \", 1/invlambda, \"nm\")\n",
    "        print(m, n, 1/m**2, 1/n**2)"
   ]
  },
  {
   "cell_type": "code",
   "execution_count": 14,
   "metadata": {},
   "outputs": [
    {
     "ename": "SyntaxError",
     "evalue": "invalid syntax (<ipython-input-14-9cbe8b87031f>, line 1)",
     "output_type": "error",
     "traceback": [
      "\u001b[1;36m  File \u001b[1;32m\"<ipython-input-14-9cbe8b87031f>\"\u001b[1;36m, line \u001b[1;32m1\u001b[0m\n\u001b[1;33m    lambda = 2\u001b[0m\n\u001b[1;37m           ^\u001b[0m\n\u001b[1;31mSyntaxError\u001b[0m\u001b[1;31m:\u001b[0m invalid syntax\n"
     ]
    }
   ],
   "source": [
    "lambda = 2"
   ]
  },
  {
   "cell_type": "markdown",
   "metadata": {},
   "source": [
    "  File \"<ipython-input-34-c2e965a75d58>\", line 1\n",
    "    lambda=2\n",
    "          ^\n",
    "SyntaxError: invalid syntax\n"
   ]
  },
  {
   "cell_type": "code",
   "execution_count": 15,
   "metadata": {},
   "outputs": [
    {
     "name": "stdin",
     "output_type": "stream",
     "text": [
      " 23\n"
     ]
    }
   ],
   "source": [
    "x = input()"
   ]
  }
 ],
 "metadata": {
  "kernelspec": {
   "display_name": "Python 3",
   "language": "python",
   "name": "python3"
  },
  "language_info": {
   "codemirror_mode": {
    "name": "ipython",
    "version": 3
   },
   "file_extension": ".py",
   "mimetype": "text/x-python",
   "name": "python",
   "nbconvert_exporter": "python",
   "pygments_lexer": "ipython3",
   "version": "3.8.3"
  }
 },
 "nbformat": 4,
 "nbformat_minor": 4
}
