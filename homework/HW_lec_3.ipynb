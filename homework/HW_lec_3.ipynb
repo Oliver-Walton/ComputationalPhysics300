{
 "cells": [
  {
   "cell_type": "markdown",
   "metadata": {},
   "source": [
    "## 3.5 Homework\n",
    "### Two Interacting Einstein Solids\n",
    "\n",
    "We already learned that Einstein proposed that a model that each atom is pretty much a harmonic oscillator \n",
    "because it is attached by some springs to the adjacent atoms in the crystal lattice. $N$ is the number of\n",
    "oscillators, while $q$ is the quantized energy for each oscillator.\n",
    "\n",
    "The generalized form to calculate the multiplicity for a give ($N,q$) is \n",
    " $$\\Omega(N, q) = \\binom{q+N-1}{q} = \\frac{(q+N-1)!}{q!(N-1)!}$$\n",
    "    \n",
    "Now let us consider two interacting Einstein solids.\n",
    "\n",
    "\n",
    "Assuming that $A$ and $B$ are weakly coupled (just like ideal gas), the individual energies\n",
    "of the solids, $q_A$ and $q_B$ will change slowly. Under this assumption, the total number of energies $q_\\text{total}$ will\n",
    "be simply the sum of  $q_A$ and $q_B$.\n",
    "\n",
    "\n",
    "\n",
    "To make life easier, let's fix $q_\\text{total}$.\n",
    "\n",
    "What's the $\\Omega$ for any arbitary $q_A$? If we just count $A$,\n",
    " $$\\Omega(A) = \\binom{q_A+N_A-1}{q_A} = \\frac{(q_A+N_A-1)!}{q_A!(N_A-1)!}$$\n",
    " \n",
    "Similarly\n",
    " $$\\Omega(B) = \\binom{q_B+N_B-1}{q_B} = \\frac{(q_B+N_B-1)!}{q_B!(N_B-1)!}$$\n",
    " \n",
    "And the total number follows\n",
    "\n",
    " $$\\Omega(\\text{total}) = \\Omega(A)  \\Omega(B) $$\n",
    "\n",
    "We have the following table when $q_A + q_B = 2, N_A = N_B = 3$.\n",
    "\n",
    "|q(A)| O(A) | q(B) | O(B) | O(total)|\n",
    "|:--:|:-----------:|:----:|:-----------:|:-------:|\n",
    "|0   |      1      |   2  |     3       |    3    |\n",
    "|1   |      3      |   1  |     3       |    9    |\n",
    "|2   |      3      |   0  |     1       |    3    |\n",
    "\n",
    "\n",
    "\n",
    "### Coding:\n",
    "\n",
    "Write a code to calculate as a function of $q_A$, when \n",
    "\n",
    "1, $N_A$=300, $N_B$=200, and $q$=100\n",
    "\n",
    "2, $N_A$=3000, $N_B$=2000, and $q$=100\n",
    "    \n",
    "plot them and try to find some tendency when $N$ increases."
   ]
  },
  {
   "cell_type": "code",
   "execution_count": 14,
   "metadata": {},
   "outputs": [
    {
     "data": {
      "text/plain": [
       "Text(0, 0.5, '$\\\\Omega$')"
      ]
     },
     "execution_count": 14,
     "metadata": {},
     "output_type": "execute_result"
    },
    {
     "data": {
      "image/png": "[encoded data removed]",
      "text/plain": [
       "<Figure size 432x288 with 1 Axes>"
      ]
     },
     "metadata": {
      "needs_background": "light"
     },
     "output_type": "display_data"
    }
   ],
   "source": [
    "import numpy as np\n",
    "import matplotlib.pyplot as plt\n",
    "\n",
    "qa = [0, 1, 2]\n",
    "omega = [3, 9, 3]\n",
    "plt.plot(qa, omega, '.r')\n",
    "plt.xlabel('$q_a$')\n",
    "plt.ylabel('$\\Omega$')"
   ]
  },
  {
   "cell_type": "code",
   "execution_count": 15,
   "metadata": {},
   "outputs": [],
   "source": [
    "import numpy as np\n",
    "import matplotlib.pyplot as plt\n",
    "import math\n",
    "\n",
    "'''\n",
    "N = number of oscillators.\n",
    "q = quantized energy for each oscillator.\n",
    "\n",
    "output: multiplicity of an Einstein solid. omega(N,q)\n",
    "'''\n",
    "def multiplicity(N, q): #taken from hw2\n",
    "    return ((math.factorial(q + N - 1))/(math.factorial(q)*(math.factorial(N-1))))\n",
    "\n",
    "\"\"\"\n",
    "Na/Nb = number of oscillators of solid A and B\n",
    "q = quantized energy for each oscillator.\n",
    "\n",
    "output: multiplicity of two interacting \n",
    "\"\"\"\n",
    "def qa_calculator(Na, Nb, q=100):\n",
    "    return (multiplicity(Na, q))*(multiplicity(Nb, q))\n",
    "    "
   ]
  },
  {
   "cell_type": "code",
   "execution_count": 16,
   "metadata": {},
   "outputs": [
    {
     "name": "stdout",
     "output_type": "stream",
     "text": [
      "NA=300, NB=200, q=100, qa =  4.661097983697024e+177\n",
      "NA=300, NB=2000, q=100, qa =  2.6070478338019845e+269\n"
     ]
    }
   ],
   "source": [
    "#calculate NA=300, NB=200, q=100\n",
    "    # &    NA=300, NB=2000, q=100\n",
    "    \n",
    "print(\"NA=300, NB=200, q=100, qa = \", qa_calculator(300, 200))\n",
    "print(\"NA=300, NB=2000, q=100, qa = \", qa_calculator(300, 2000))"
   ]
  },
  {
   "cell_type": "code",
   "execution_count": 32,
   "metadata": {},
   "outputs": [
    {
     "data": {
      "image/png": "[encoded data removed]",
      "text/plain": [
       "<Figure size 432x288 with 1 Axes>"
      ]
     },
     "metadata": {
      "needs_background": "light"
     },
     "output_type": "display_data"
    }
   ],
   "source": [
    "#plot for qa as a function of N\n",
    "\n",
    "N = np.arange(200, 2000, 10)\n",
    "\n",
    "i = 200\n",
    "y = []\n",
    "\n",
    "for i in np.arange(200,2000,10):\n",
    "    y.append(qa_calculator(200, i))\n",
    "    \n",
    "# qa = qa_calculator(200, N)\n",
    "plt.xlabel('N')\n",
    "plt.ylabel('$q_a$')\n",
    "plt.plot(N,y)\n",
    "plt.show()\n",
    "\n",
    "#ends up being this exponetial graph"
   ]
  },
  {
   "cell_type": "code",
   "execution_count": 35,
   "metadata": {},
   "outputs": [
    {
     "data": {
      "image/png": "[encoded data removed]",
      "text/plain": [
       "<Figure size 432x288 with 1 Axes>"
      ]
     },
     "metadata": {
      "needs_background": "light"
     },
     "output_type": "display_data"
    }
   ],
   "source": [
    "#plot for omega as a function of qa\n",
    "\n",
    "i = 200\n",
    "x = []\n",
    "y = []\n",
    "\n",
    "\n",
    "for i in np.arange(200,2000,10):\n",
    "    y.append(multiplicity(i, 100))    #N=i, q=100\n",
    "    x.append(qa_calculator(200, i))   #Na=300, Nb=i, q=100\n",
    "    \n",
    "# qa = qa_calculator(200, N)\n",
    "plt.xlabel('$q_a$')\n",
    "plt.ylabel('$\\Omega$')\n",
    "plt.plot(x,y)\n",
    "plt.show()\n"
   ]
  },
  {
   "cell_type": "markdown",
   "metadata": {},
   "source": [
    "This linear depenence makes sense as\n",
    "\n",
    "$q_a = \\Omega(A)\\Omega(B)$\n",
    "\n",
    "but because A is constant in this case, it would simplify to \n",
    "\n",
    "$q_a = C\\Omega(B)$      $C = \\Omega(A)$\n",
    "\n",
    "which is in the form of a simple line\n",
    "\n",
    "$y = mx$\n"
   ]
  }
 ],
 "metadata": {
  "kernelspec": {
   "display_name": "Python 3",
   "language": "python",
   "name": "python3"
  },
  "language_info": {
   "codemirror_mode": {
    "name": "ipython",
    "version": 3
   },
   "file_extension": ".py",
   "mimetype": "text/x-python",
   "name": "python",
   "nbconvert_exporter": "python",
   "pygments_lexer": "ipython3",
   "version": "3.8.3"
  }
 },
 "nbformat": 4,
 "nbformat_minor": 4
}
